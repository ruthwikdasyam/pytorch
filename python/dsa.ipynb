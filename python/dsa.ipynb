{
 "cells": [
  {
   "cell_type": "code",
   "execution_count": 1,
   "id": "e7b7004f",
   "metadata": {},
   "outputs": [
    {
     "name": "stdout",
     "output_type": "stream",
     "text": [
      "4\n"
     ]
    }
   ],
   "source": [
    "# array operations\n",
    "\n",
    "arr = [1,2,3,4,5]\n",
    "print(arr[-2])"
   ]
  },
  {
   "cell_type": "code",
   "execution_count": 2,
   "id": "1f6e2b52",
   "metadata": {},
   "outputs": [
    {
     "data": {
      "text/plain": [
       "'amanaplanacanalpanama'"
      ]
     },
     "execution_count": 2,
     "metadata": {},
     "output_type": "execute_result"
    }
   ],
   "source": [
    "str = \"A man, a plan, a canal: Panama\"\n",
    "''.join(i.lower() for i in str if i.isalnum())"
   ]
  },
  {
   "cell_type": "code",
   "execution_count": 25,
   "id": "af6bd2b3",
   "metadata": {},
   "outputs": [
    {
     "name": "stdout",
     "output_type": "stream",
     "text": [
      "2\n"
     ]
    },
    {
     "data": {
      "text/plain": [
       "{'b': 1, 'c': 2, 'a': 3, 'd': -3}"
      ]
     },
     "execution_count": 25,
     "metadata": {},
     "output_type": "execute_result"
    }
   ],
   "source": [
    "# dictionary operations\n",
    "\n",
    "dict1 = {}\n",
    "dict1['b'] = 0\n",
    "dict1['c'] = 2\n",
    "dict1['a'] = 3\n",
    "dict1['d'] = -3\n",
    "print(dict1.get('c', 3)) # returns 3 if 'c' not found\n",
    "\n",
    "dict1['b'] += 1\n",
    "dict1"
   ]
  },
  {
   "cell_type": "code",
   "execution_count": null,
   "id": "b66a1f2f",
   "metadata": {},
   "outputs": [
    {
     "name": "stdout",
     "output_type": "stream",
     "text": [
      "{'a': 3, 'b': 1, 'c': 2, 'd': -3}\n",
      "{'b': 1, 'c': 2, 'a': 3, 'd': -3}\n"
     ]
    }
   ],
   "source": [
    "# sorting dict\n",
    "# sorting by keys and values\n",
    "print(dict(sorted(dict1.items())))\n",
    "print(dict(sorted(dict1.items(), key=lambda x: x[1]**2)))"
   ]
  },
  {
   "cell_type": "code",
   "execution_count": 4,
   "id": "cccaee23",
   "metadata": {},
   "outputs": [
    {
     "data": {
      "text/plain": [
       "0"
      ]
     },
     "execution_count": 4,
     "metadata": {},
     "output_type": "execute_result"
    }
   ],
   "source": [
    "from collections import defaultdict\n",
    "\n",
    "dict2 = defaultdict(int)\n",
    "\n",
    "dict2['a'] += 1\n",
    "dict2['b'] += 2\n",
    "\n",
    "dict2.get('c', 3) # returns 3 if 'c' not found\n",
    "dict2['c'] # returns 0 instead of KeyError"
   ]
  },
  {
   "cell_type": "code",
   "execution_count": 5,
   "id": "30449a18",
   "metadata": {},
   "outputs": [
    {
     "name": "stdout",
     "output_type": "stream",
     "text": [
      "3\n",
      "2\n",
      "[1, 2]\n"
     ]
    }
   ],
   "source": [
    "# stack\n",
    "\n",
    "stack = []\n",
    "stack.append(1)\n",
    "stack.append(2)\n",
    "stack.append(3)\n",
    "print(stack.pop()) # returns 3\n",
    "\n",
    "print(stack[-1])\n",
    "print(stack)\n"
   ]
  },
  {
   "cell_type": "code",
   "execution_count": 6,
   "id": "2a9814b7",
   "metadata": {},
   "outputs": [
    {
     "name": "stdout",
     "output_type": "stream",
     "text": [
      "1\n",
      "2\n",
      "deque([2, 3])\n"
     ]
    }
   ],
   "source": [
    "# queue\n",
    "\n",
    "from collections import deque\n",
    "queue = deque()\n",
    "\n",
    "queue.append(1)\n",
    "queue.append(2)\n",
    "queue.append(3)\n",
    "print(queue.popleft()) # returns 1\n",
    "\n",
    "print(queue[0])\n",
    "print(queue)\n"
   ]
  },
  {
   "cell_type": "code",
   "execution_count": null,
   "id": "89c68738",
   "metadata": {},
   "outputs": [],
   "source": []
  }
 ],
 "metadata": {
  "kernelspec": {
   "display_name": "base",
   "language": "python",
   "name": "python3"
  },
  "language_info": {
   "codemirror_mode": {
    "name": "ipython",
    "version": 3
   },
   "file_extension": ".py",
   "mimetype": "text/x-python",
   "name": "python",
   "nbconvert_exporter": "python",
   "pygments_lexer": "ipython3",
   "version": "3.13.5"
  }
 },
 "nbformat": 4,
 "nbformat_minor": 5
}

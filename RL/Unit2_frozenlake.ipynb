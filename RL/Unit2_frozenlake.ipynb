{
 "cells": [
  {
   "cell_type": "code",
   "execution_count": 1,
   "id": "fef396a0",
   "metadata": {},
   "outputs": [],
   "source": [
    "import numpy as np\n",
    "import gymnasium as gym\n",
    "import random"
   ]
  },
  {
   "cell_type": "code",
   "execution_count": 2,
   "id": "4c5e0775",
   "metadata": {},
   "outputs": [
    {
     "data": {
      "text/plain": [
       "(0, {'prob': 1})"
      ]
     },
     "execution_count": 2,
     "metadata": {},
     "output_type": "execute_result"
    }
   ],
   "source": [
    "env = gym.make('FrozenLake-v1', desc=None, map_name = \"4x4\", is_slippery = False)\n",
    "env.reset()"
   ]
  },
  {
   "cell_type": "code",
   "execution_count": 3,
   "id": "49676466",
   "metadata": {},
   "outputs": [
    {
     "name": "stdout",
     "output_type": "stream",
     "text": [
      "Number of Actions 4, Sample action - 3\n",
      "Observation Space 16, sample observation - 10\n"
     ]
    }
   ],
   "source": [
    "# understanding env\n",
    "\n",
    "print(f\"Number of Actions {env.action_space.n}, Sample action - {env.action_space.sample()}\")\n",
    "print(f\"Observation Space {env.observation_space.n}, sample observation - {env.observation_space.sample()}\")\n",
    "\n",
    "state_space = env.observation_space.n\n",
    "action_space = env.action_space.n"
   ]
  },
  {
   "cell_type": "markdown",
   "id": "53960f2c",
   "metadata": {},
   "source": [
    "### Q Learning"
   ]
  },
  {
   "cell_type": "code",
   "execution_count": null,
   "id": "171be61b",
   "metadata": {},
   "outputs": [],
   "source": [
    "# Q Table Initializing\n",
    "Qtable = np.zeros((state_space, action_space))"
   ]
  },
  {
   "cell_type": "code",
   "execution_count": 36,
   "id": "f3ec9651",
   "metadata": {},
   "outputs": [],
   "source": [
    "# Parameters\n",
    "\n",
    "num_episodes = 10000\n",
    "learning_rate = 0.1\n",
    "gamma = 0.99\n",
    "epsilon = 1.0\n",
    "max_steps = 50\n",
    "\n",
    "eval_num_episodes = 5"
   ]
  },
  {
   "cell_type": "code",
   "execution_count": 32,
   "id": "08d62285",
   "metadata": {},
   "outputs": [],
   "source": [
    "def epsilon_greedy(epsilon, Qtable, state):\n",
    "\n",
    "    k = random.uniform(0,1)\n",
    "    # print(k)\n",
    "    if k>epsilon: # exploit\n",
    "        action = np.argmax(Qtable[state][:])\n",
    "        # print(action)\n",
    "    else: # k < epsilon -- explore\n",
    "        action = env.action_space.sample()\n",
    "    return action"
   ]
  },
  {
   "cell_type": "code",
   "execution_count": 33,
   "id": "ae981c89",
   "metadata": {},
   "outputs": [],
   "source": [
    "for _ in range(num_episodes):\n",
    "\n",
    "    epsilon = max(epsilon - 0.00009, 0.1)\n",
    "    state, _ = env.reset()\n",
    "    truncated = False\n",
    "    terminated = False\n",
    "\n",
    "    for _ in range(max_steps):\n",
    "        # get action from epsilon greedy\n",
    "        action = epsilon_greedy(epsilon, Qtable, state)\n",
    "        # step into env\n",
    "        new_state, reward, terminated, truncated, info = env.step(action)\n",
    "        # update - greedy\n",
    "        Qtable[state][action] = Qtable[state][action] + learning_rate*(reward + gamma*np.max(Qtable[new_state]) - Qtable[state][action])\n",
    "        # print(truncated, terminated)\n",
    "        if truncated or terminated:\n",
    "            break\n",
    "        state = new_state\n",
    "\n"
   ]
  },
  {
   "cell_type": "code",
   "execution_count": 34,
   "id": "bcd2d9e5",
   "metadata": {},
   "outputs": [
    {
     "data": {
      "text/plain": [
       "array([[0.94148015, 0.95099005, 0.95099005, 0.94148015],\n",
       "       [0.94148015, 0.        , 0.96059601, 0.95099005],\n",
       "       [0.95099005, 0.970299  , 0.95099005, 0.96059601],\n",
       "       [0.96059601, 0.        , 0.95099005, 0.95099004],\n",
       "       [0.95099005, 0.96059601, 0.        , 0.94148015],\n",
       "       [0.        , 0.        , 0.        , 0.        ],\n",
       "       [0.        , 0.9801    , 0.        , 0.96059601],\n",
       "       [0.        , 0.        , 0.        , 0.        ],\n",
       "       [0.96059601, 0.        , 0.970299  , 0.95099005],\n",
       "       [0.96059601, 0.9801    , 0.9801    , 0.        ],\n",
       "       [0.970299  , 0.99      , 0.        , 0.970299  ],\n",
       "       [0.        , 0.        , 0.        , 0.        ],\n",
       "       [0.        , 0.        , 0.        , 0.        ],\n",
       "       [0.        , 0.9801    , 0.99      , 0.970299  ],\n",
       "       [0.9801    , 0.99      , 1.        , 0.9801    ],\n",
       "       [0.        , 0.        , 0.        , 0.        ]])"
      ]
     },
     "execution_count": 34,
     "metadata": {},
     "output_type": "execute_result"
    }
   ],
   "source": [
    "Qtable"
   ]
  },
  {
   "cell_type": "code",
   "execution_count": null,
   "id": "e443422e",
   "metadata": {},
   "outputs": [],
   "source": [
    "# eval mode environment with render mode\n",
    "env = gym.make('FrozenLake-v1', desc=None, map_name = \"4x4\", is_slippery = False, render_mode=\"human\")"
   ]
  },
  {
   "cell_type": "code",
   "execution_count": null,
   "id": "da9d2426",
   "metadata": {},
   "outputs": [
    {
     "name": "stdout",
     "output_type": "stream",
     "text": [
      "Average reward over 5 episodes is 1.0\n"
     ]
    }
   ],
   "source": [
    "episode_rewards = []\n",
    "for _ in range(eval_num_episodes):\n",
    "\n",
    "    # epsilon = max(epsilon - 0.00009, 0.1)\n",
    "    state, _ = env.reset()\n",
    "    truncated = False\n",
    "    terminated = False\n",
    "\n",
    "    total_rewards_ep = 0\n",
    "\n",
    "    for _ in range(max_steps):\n",
    "        # get action from epsilon greedy\n",
    "        action = np.argmax(Qtable[state][:])\n",
    "        # step into env\n",
    "        new_state, reward, terminated, truncated, info = env.step(action)\n",
    "        total_rewards_ep += reward\n",
    "        # update - greedy\n",
    "        # Qtable[state][action] = Qtable[state][action] + learning_rate*(reward + gamma*np.max(Qtable[new_state]) - Qtable[state][action])\n",
    "        # print(truncated, terminated)\n",
    "        if truncated or terminated:\n",
    "            break\n",
    "        state = new_state\n",
    "\n",
    "    episode_rewards.append(total_rewards_ep)\n",
    "\n",
    "print(f\"Average reward over {eval_num_episodes} episodes is {sum(episode_rewards)/eval_num_episodes}\")\n",
    "env.close()"
   ]
  },
  {
   "cell_type": "code",
   "execution_count": null,
   "id": "61816ac3",
   "metadata": {},
   "outputs": [],
   "source": [
    "def can_make_balanced(word):\n",
    "    dict1 = {}\n",
    "    for s in word:\n",
    "        dict1[s] = dict1.get(s, 0) + 1\n",
    "    freq = sorted(dict1.values())\n",
    "    if len(set(freq)) == 1:\n",
    "        return True\n",
    "    \n",
    "    dict2 = {}\n",
    "    for w in freq:\n",
    "        dict2[w] = dict2.get(w, 0) + 1\n",
    "    \n",
    "\n",
    "\n",
    "    return\n",
    "\n",
    "    "
   ]
  },
  {
   "cell_type": "code",
   "execution_count": 7,
   "id": "d6c2d578",
   "metadata": {},
   "outputs": [],
   "source": [
    "def can_make_balanced(word):\n",
    "    dict1 = {}\n",
    "    for s in word:\n",
    "        dict1[s] = dict1.get(s, 0) + 1\n",
    "    freq = sorted(dict1.values())\n",
    "    if len((freq)) == 1:\n",
    "        return True\n",
    "    return sum(freq) == freq[0]*len(freq) + 1 or sum(freq) == 1 + freq[-1]*(len(freq)-1)\n"
   ]
  },
  {
   "cell_type": "code",
   "execution_count": 1,
   "id": "a2d829ca",
   "metadata": {},
   "outputs": [],
   "source": [
    "import math\n",
    "def min_swaps(s):\n",
    "    left, right = 0, 0\n",
    "    for i in s:\n",
    "        if i=='[':\n",
    "            left+=1\n",
    "        else:\n",
    "            if left>0:\n",
    "                left-=1\n",
    "            else:\n",
    "                right+=1\n",
    "        # print(left,right)\n",
    "    if left!=right:\n",
    "        print(\"Invalid input: The left and right brackets are not equal\")\n",
    "        return 0\n",
    "    else:\n",
    "        return math.ceil(left/2)"
   ]
  },
  {
   "cell_type": "code",
   "execution_count": 11,
   "id": "05d9ee9e",
   "metadata": {},
   "outputs": [
    {
     "name": "stdout",
     "output_type": "stream",
     "text": [
      "1\n",
      "1\n",
      "2\n",
      "-----\n",
      "Invalid input: The left and right brackets are not equal\n",
      "0\n",
      "2\n",
      "0\n",
      "-----\n",
      "1\n",
      "0\n"
     ]
    }
   ],
   "source": [
    "print(min_swaps(\"[]][][\"))\n",
    "print(min_swaps(\"]][[\"))\n",
    "print(min_swaps(\"]]][[[\"))\n",
    "print(\"-----\")\n",
    "print(min_swaps(\"]]][[[]\"))\n",
    "print(min_swaps(\"]]][[[][\"))\n",
    "print(min_swaps(\"[]\"))\n",
    "print(\"-----\")\n",
    "print(min_swaps(\"][\"))\n",
    "print(min_swaps(\"[[]]\"))\n"
   ]
  },
  {
   "cell_type": "code",
   "execution_count": 13,
   "id": "eeebd7d7",
   "metadata": {},
   "outputs": [],
   "source": [
    "def test_min_swaps():\n",
    "    tests = [\n",
    "        (\"[]\", 0),\n",
    "        (\"[][]\", 0),\n",
    "        (\"][\", 1),\n",
    "        (\"]][[\", 2),\n",
    "        (\"]]][[[\", 3),\n",
    "        (\"[]][][\", 2),\n",
    "        (\"[[[]]]\", 0),\n",
    "        (\"[[[]]][][]\", 0),\n",
    "        (\"]]][[[]\", 3),\n",
    "        (\"]]][[[]][\", 3),\n",
    "        (\"]]]][[[[\", 4),\n",
    "        (\"]]]]][[[[[\", 5),\n",
    "    ]\n",
    "\n",
    "    for s, expected in tests:\n",
    "        print(f\"{s} -> {min_swaps(s)} (expected {expected})\")\n"
   ]
  },
  {
   "cell_type": "code",
   "execution_count": 14,
   "id": "06848880",
   "metadata": {},
   "outputs": [
    {
     "name": "stdout",
     "output_type": "stream",
     "text": [
      "[] -> 0 (expected 0)\n",
      "[][] -> 0 (expected 0)\n",
      "][ -> 1 (expected 1)\n",
      "]][[ -> 1 (expected 2)\n",
      "]]][[[ -> 2 (expected 3)\n",
      "[]][][ -> 1 (expected 2)\n",
      "[[[]]] -> 0 (expected 0)\n",
      "[[[]]][][] -> 0 (expected 0)\n",
      "Invalid input: The left and right brackets are not equal\n",
      "]]][[[] -> 0 (expected 3)\n",
      "Invalid input: The left and right brackets are not equal\n",
      "]]][[[]][ -> 0 (expected 3)\n",
      "]]]][[[[ -> 2 (expected 4)\n",
      "]]]]][[[[[ -> 3 (expected 5)\n"
     ]
    }
   ],
   "source": [
    "test_min_swaps()"
   ]
  },
  {
   "cell_type": "code",
   "execution_count": null,
   "id": "a817f5a6",
   "metadata": {},
   "outputs": [],
   "source": []
  }
 ],
 "metadata": {
  "kernelspec": {
   "display_name": "rlenv",
   "language": "python",
   "name": "python3"
  },
  "language_info": {
   "codemirror_mode": {
    "name": "ipython",
    "version": 3
   },
   "file_extension": ".py",
   "mimetype": "text/x-python",
   "name": "python",
   "nbconvert_exporter": "python",
   "pygments_lexer": "ipython3",
   "version": "3.10.18"
  }
 },
 "nbformat": 4,
 "nbformat_minor": 5
}

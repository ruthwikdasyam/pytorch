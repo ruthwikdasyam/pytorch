{
 "cells": [
  {
   "cell_type": "code",
   "execution_count": 1,
   "metadata": {},
   "outputs": [],
   "source": [
    "import torch\n",
    "import numpy as np"
   ]
  },
  {
   "cell_type": "code",
   "execution_count": 2,
   "metadata": {},
   "outputs": [
    {
     "name": "stdout",
     "output_type": "stream",
     "text": [
      "tensor([[1, 1],\n",
      "        [1, 1]])\n",
      "tensor([[0.9091, 0.5040],\n",
      "        [0.7099, 0.7983]])\n"
     ]
    }
   ],
   "source": [
    "# torch from list\n",
    "data = [[1, 2], [3, 4]]\n",
    "x_data = torch.tensor(data)\n",
    "# print((x_data))\n",
    "\n",
    "np_array = np.array(data)\n",
    "np_tensor = torch.tensor(np_array)\n",
    "# print(np_tensor)\n",
    "\n",
    "# ones_like and rand_like\n",
    "x_ones = torch.ones_like(x_data)\n",
    "print(x_ones)\n",
    "x_rand = torch.rand_like(x_data, dtype=torch.float)#not implemented for long\n",
    "print(x_rand)"
   ]
  },
  {
   "cell_type": "code",
   "execution_count": 3,
   "metadata": {},
   "outputs": [
    {
     "name": "stdout",
     "output_type": "stream",
     "text": [
      "tensor([[0.6044, 0.8938, 0.8998],\n",
      "        [0.0658, 0.4936, 0.9355]])\n",
      "tensor([[1., 1., 1.],\n",
      "        [1., 1., 1.]])\n",
      "tensor([[0., 0.],\n",
      "        [0., 0.],\n",
      "        [0., 0.]])\n"
     ]
    }
   ],
   "source": [
    "print(torch.rand((2,3,)))\n",
    "print(torch.ones((2,3,)))\n",
    "print(torch.zeros((3,2,)))\n",
    "\n",
    "# comma signifies that we are unsure about shape, and might change later, or we might append additional dim"
   ]
  },
  {
   "cell_type": "code",
   "execution_count": 4,
   "metadata": {},
   "outputs": [
    {
     "name": "stdout",
     "output_type": "stream",
     "text": [
      "tensor([[0.8794, 0.2149, 0.4621],\n",
      "        [0.4481, 0.5115, 0.9042]])\n",
      "shape  torch.Size([2, 3])\n",
      "Datatype torch.float32\n",
      "Stored on cpu\n"
     ]
    }
   ],
   "source": [
    "dummy1 = torch.rand((2,3,), dtype=torch.float)\n",
    "print(dummy1)\n",
    "print(f\"shape  {dummy1.shape}\")\n",
    "print(f\"Datatype {dummy1.dtype}\")\n",
    "print(f\"Stored on {dummy1.device}\")"
   ]
  },
  {
   "cell_type": "code",
   "execution_count": 5,
   "metadata": {},
   "outputs": [
    {
     "name": "stdout",
     "output_type": "stream",
     "text": [
      "torch.bool\n"
     ]
    }
   ],
   "source": [
    "d2 = torch.tensor([True, False, True], dtype=torch.bool)\n",
    "print(d2.dtype)"
   ]
  },
  {
   "cell_type": "code",
   "execution_count": 19,
   "metadata": {},
   "outputs": [
    {
     "name": "stdout",
     "output_type": "stream",
     "text": [
      "tensor([[0.8662, 0.8943, 0.0527, 0.0945],\n",
      "        [0.2352, 0.0788, 0.9521, 0.1025],\n",
      "        [0.4749, 0.2703, 0.9077, 0.0678]])\n"
     ]
    }
   ],
   "source": [
    "tensor = torch.rand((3, 4))\n",
    "print(tensor)"
   ]
  },
  {
   "cell_type": "code",
   "execution_count": 20,
   "metadata": {},
   "outputs": [
    {
     "name": "stdout",
     "output_type": "stream",
     "text": [
      "tensor([0.8662, 0.2352, 0.4749])\n",
      "tensor([0.0945, 0.1025, 0.0678])\n",
      "tensor([0., 0., 0., 0.])\n"
     ]
    }
   ],
   "source": [
    "print(tensor[:,0]) # first column\n",
    "print(tensor[:,-1]) # last column\n",
    "tensor[0,:] = 0 # first row\n",
    "print(tensor[0,:]) # first row"
   ]
  },
  {
   "cell_type": "code",
   "execution_count": 21,
   "metadata": {},
   "outputs": [
    {
     "name": "stdout",
     "output_type": "stream",
     "text": [
      "tensor([[0.0000, 0.0000, 0.0000, 0.0000],\n",
      "        [0.2352, 0.0788, 0.9521, 0.1025],\n",
      "        [0.4749, 0.2703, 0.9077, 0.0678],\n",
      "        [0.0000, 0.0000, 0.0000, 0.0000],\n",
      "        [0.2352, 0.0788, 0.9521, 0.1025],\n",
      "        [0.4749, 0.2703, 0.9077, 0.0678]])\n"
     ]
    }
   ],
   "source": [
    "t1 = torch.cat((tensor, tensor), dim=0) # concatenate along row\n",
    "print(t1)"
   ]
  },
  {
   "cell_type": "code",
   "execution_count": 26,
   "metadata": {},
   "outputs": [
    {
     "data": {
      "text/plain": [
       "tensor([[0.0000, 0.0000, 0.0000],\n",
       "        [0.0000, 0.9785, 1.0042],\n",
       "        [0.0000, 1.0042, 1.1272]])"
      ]
     },
     "execution_count": 26,
     "metadata": {},
     "output_type": "execute_result"
    }
   ],
   "source": [
    "tensor.matmul(tensor.T) # matrix multiplication\n",
    "tensor@tensor.T"
   ]
  },
  {
   "cell_type": "code",
   "execution_count": 27,
   "metadata": {},
   "outputs": [
    {
     "data": {
      "text/plain": [
       "tensor([[0.0000, 0.0000, 0.0000, 0.0000],\n",
       "        [0.0553, 0.0062, 0.9064, 0.0105],\n",
       "        [0.2255, 0.0731, 0.8240, 0.0046]])"
      ]
     },
     "execution_count": 27,
     "metadata": {},
     "output_type": "execute_result"
    }
   ],
   "source": [
    "tensor.mul(tensor)\n",
    "tensor*tensor"
   ]
  },
  {
   "cell_type": "code",
   "execution_count": 32,
   "metadata": {},
   "outputs": [
    {
     "data": {
      "text/plain": [
       "float"
      ]
     },
     "execution_count": 32,
     "metadata": {},
     "output_type": "execute_result"
    }
   ],
   "source": [
    "t2 = (tensor.sum()).item()\n",
    "type(t2)"
   ]
  },
  {
   "cell_type": "code",
   "execution_count": 34,
   "metadata": {},
   "outputs": [
    {
     "data": {
      "text/plain": [
       "tensor([[5.0000, 5.0000, 5.0000, 5.0000],\n",
       "        [5.4705, 5.1576, 6.9041, 5.2050],\n",
       "        [5.9498, 5.5406, 6.8155, 5.1356]])"
      ]
     },
     "execution_count": 34,
     "metadata": {},
     "output_type": "execute_result"
    }
   ],
   "source": [
    "tensor.add_(5) # in place addition"
   ]
  },
  {
   "cell_type": "code",
   "execution_count": 37,
   "metadata": {},
   "outputs": [
    {
     "name": "stdout",
     "output_type": "stream",
     "text": [
      "[[1. 1. 1.]\n",
      " [1. 1. 1.]]\n",
      "tensor([[1., 1., 1.],\n",
      "        [1., 1., 1.]], dtype=torch.float64)\n"
     ]
    }
   ],
   "source": [
    "k = np.ones((2,3))\n",
    "print(k)\n",
    "k = torch.from_numpy(k)\n",
    "print(k)"
   ]
  },
  {
   "cell_type": "code",
   "execution_count": null,
   "metadata": {},
   "outputs": [],
   "source": []
  }
 ],
 "metadata": {
  "kernelspec": {
   "display_name": "transformers",
   "language": "python",
   "name": "python3"
  },
  "language_info": {
   "codemirror_mode": {
    "name": "ipython",
    "version": 3
   },
   "file_extension": ".py",
   "mimetype": "text/x-python",
   "name": "python",
   "nbconvert_exporter": "python",
   "pygments_lexer": "ipython3",
   "version": "3.9.19"
  }
 },
 "nbformat": 4,
 "nbformat_minor": 2
}

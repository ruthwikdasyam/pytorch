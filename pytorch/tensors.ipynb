{
 "cells": [
  {
   "cell_type": "code",
   "execution_count": 15,
   "metadata": {},
   "outputs": [],
   "source": [
    "import torch\n",
    "import numpy as np"
   ]
  },
  {
   "cell_type": "code",
   "execution_count": 16,
   "metadata": {},
   "outputs": [
    {
     "name": "stdout",
     "output_type": "stream",
     "text": [
      "tensor([[1, 1],\n",
      "        [1, 1]])\n",
      "tensor([[0.8908, 0.9962],\n",
      "        [0.0643, 0.2912]])\n"
     ]
    }
   ],
   "source": [
    "# torch from list\n",
    "data = [[1, 2], [3, 4]]\n",
    "x_data = torch.tensor(data)\n",
    "# print((x_data))\n",
    "\n",
    "np_array = np.array(data)\n",
    "np_tensor = torch.tensor(np_array)\n",
    "# print(np_tensor)\n",
    "\n",
    "# ones_like and rand_like\n",
    "x_ones = torch.ones_like(x_data)\n",
    "print(x_ones)\n",
    "x_rand = torch.rand_like(x_data, dtype=torch.float)#not implemented for long\n",
    "print(x_rand)"
   ]
  },
  {
   "cell_type": "code",
   "execution_count": 17,
   "metadata": {},
   "outputs": [
    {
     "name": "stdout",
     "output_type": "stream",
     "text": [
      "tensor([[0.7928, 0.2468, 0.9636],\n",
      "        [0.1248, 0.0805, 0.1822]])\n",
      "tensor([[1., 1., 1.],\n",
      "        [1., 1., 1.]])\n",
      "tensor([[0., 0.],\n",
      "        [0., 0.],\n",
      "        [0., 0.]])\n"
     ]
    }
   ],
   "source": [
    "print(torch.rand((2,3,)))\n",
    "print(torch.ones((2,3,)))\n",
    "print(torch.zeros((3,2,)))\n",
    "\n",
    "# comma signifies that we are unsure about shape, and might change later, or we might append additional dim"
   ]
  },
  {
   "cell_type": "code",
   "execution_count": 18,
   "metadata": {},
   "outputs": [
    {
     "name": "stdout",
     "output_type": "stream",
     "text": [
      "tensor([[0.7896, 0.0110, 0.6379],\n",
      "        [0.5124, 0.4171, 0.4546]])\n",
      "shape  torch.Size([2, 3])\n",
      "Datatype torch.float32\n",
      "Stored on cpu\n"
     ]
    }
   ],
   "source": [
    "dummy1 = torch.rand((2,3,), dtype=torch.float)\n",
    "print(dummy1)\n",
    "print(f\"shape  {dummy1.shape}\")\n",
    "print(f\"Datatype {dummy1.dtype}\")\n",
    "print(f\"Stored on {dummy1.device}\")"
   ]
  },
  {
   "cell_type": "code",
   "execution_count": 19,
   "metadata": {},
   "outputs": [
    {
     "name": "stdout",
     "output_type": "stream",
     "text": [
      "torch.bool\n"
     ]
    }
   ],
   "source": [
    "d2 = torch.tensor([True, False, True], dtype=torch.bool)\n",
    "print(d2.dtype)"
   ]
  },
  {
   "cell_type": "code",
   "execution_count": 20,
   "metadata": {},
   "outputs": [
    {
     "name": "stdout",
     "output_type": "stream",
     "text": [
      "tensor([[0.3777, 0.7713, 0.4196, 0.5054],\n",
      "        [0.2182, 0.7770, 0.6709, 0.6269],\n",
      "        [0.2350, 0.8521, 0.3089, 0.6820]])\n"
     ]
    }
   ],
   "source": [
    "tensor = torch.rand((3, 4))\n",
    "print(tensor)"
   ]
  },
  {
   "cell_type": "code",
   "execution_count": 21,
   "metadata": {},
   "outputs": [
    {
     "name": "stdout",
     "output_type": "stream",
     "text": [
      "tensor([0.3777, 0.2182, 0.2350])\n",
      "tensor([0.5054, 0.6269, 0.6820])\n",
      "tensor([0., 0., 0., 0.])\n"
     ]
    }
   ],
   "source": [
    "print(tensor[:,0]) # first column\n",
    "print(tensor[:,-1]) # last column\n",
    "tensor[0,:] = 0 # first row\n",
    "print(tensor[0,:]) # first row"
   ]
  },
  {
   "cell_type": "code",
   "execution_count": 22,
   "metadata": {},
   "outputs": [
    {
     "name": "stdout",
     "output_type": "stream",
     "text": [
      "tensor([[0.0000, 0.0000, 0.0000, 0.0000],\n",
      "        [0.2182, 0.7770, 0.6709, 0.6269],\n",
      "        [0.2350, 0.8521, 0.3089, 0.6820],\n",
      "        [0.0000, 0.0000, 0.0000, 0.0000],\n",
      "        [0.2182, 0.7770, 0.6709, 0.6269],\n",
      "        [0.2350, 0.8521, 0.3089, 0.6820]])\n"
     ]
    }
   ],
   "source": [
    "t1 = torch.cat((tensor, tensor), dim=0) # concatenate along row\n",
    "print(t1)"
   ]
  },
  {
   "cell_type": "code",
   "execution_count": 23,
   "metadata": {},
   "outputs": [
    {
     "name": "stdout",
     "output_type": "stream",
     "text": [
      "tensor([[0.0000, 0.0000, 0.0000],\n",
      "        [0.0000, 1.4944, 1.3481],\n",
      "        [0.0000, 1.3481, 1.3418]])\n",
      "tensor([[0.0000, 0.0000, 0.0000],\n",
      "        [0.0000, 1.4944, 1.3481],\n",
      "        [0.0000, 1.3481, 1.3418]])\n"
     ]
    }
   ],
   "source": [
    "print(tensor.matmul(tensor.T)) # matrix multiplication\n",
    "print(tensor@tensor.T)"
   ]
  },
  {
   "cell_type": "code",
   "execution_count": 24,
   "metadata": {},
   "outputs": [
    {
     "data": {
      "text/plain": [
       "tensor([[0.0000, 0.0000, 0.0000, 0.0000],\n",
       "        [0.0476, 0.6038, 0.4501, 0.3930],\n",
       "        [0.0552, 0.7261, 0.0954, 0.4652]])"
      ]
     },
     "execution_count": 24,
     "metadata": {},
     "output_type": "execute_result"
    }
   ],
   "source": [
    "tensor.mul(tensor)\n",
    "tensor*tensor"
   ]
  },
  {
   "cell_type": "code",
   "execution_count": 25,
   "metadata": {},
   "outputs": [
    {
     "data": {
      "text/plain": [
       "float"
      ]
     },
     "execution_count": 25,
     "metadata": {},
     "output_type": "execute_result"
    }
   ],
   "source": [
    "t2 = (tensor.sum()).item()\n",
    "type(t2)"
   ]
  },
  {
   "cell_type": "code",
   "execution_count": 26,
   "metadata": {},
   "outputs": [
    {
     "data": {
      "text/plain": [
       "tensor([[5.0000, 5.0000, 5.0000, 5.0000],\n",
       "        [5.2182, 5.7770, 5.6709, 5.6269],\n",
       "        [5.2350, 5.8521, 5.3089, 5.6820]])"
      ]
     },
     "execution_count": 26,
     "metadata": {},
     "output_type": "execute_result"
    }
   ],
   "source": [
    "tensor.add_(5) # in place addition"
   ]
  },
  {
   "cell_type": "code",
   "execution_count": 27,
   "metadata": {},
   "outputs": [
    {
     "name": "stdout",
     "output_type": "stream",
     "text": [
      "[[1. 1. 1.]\n",
      " [1. 1. 1.]]\n",
      "tensor([[1., 1., 1.],\n",
      "        [1., 1., 1.]], dtype=torch.float64)\n"
     ]
    }
   ],
   "source": [
    "k = np.ones((2,3))\n",
    "print(k)\n",
    "k = torch.from_numpy(k)\n",
    "print(k)"
   ]
  },
  {
   "cell_type": "code",
   "execution_count": 34,
   "metadata": {},
   "outputs": [
    {
     "data": {
      "text/plain": [
       "tensor([[8.5023, 7.0575, 0.6336],\n",
       "        [3.8908, 8.9794, 2.0687]], dtype=torch.float64)"
      ]
     },
     "execution_count": 34,
     "metadata": {},
     "output_type": "execute_result"
    }
   ],
   "source": [
    "x = torch.rand((2,3,), dtype = torch.float64)*10\n",
    "x"
   ]
  },
  {
   "cell_type": "code",
   "execution_count": 37,
   "metadata": {},
   "outputs": [
    {
     "name": "stdout",
     "output_type": "stream",
     "text": [
      "Common functions:\n",
      "tensor([[0.9404, 0.9850, 0.8475, 0.5491],\n",
      "        [0.3845, 0.7353, 0.2087, 0.2399]])\n",
      "tensor([[1., 1., 1., 1.],\n",
      "        [1., 1., 1., 1.]])\n",
      "tensor([[0., 0., 0., 0.],\n",
      "        [0., 0., 0., 0.]])\n",
      "tensor([[0.5000, 0.5000, 0.5000, 0.5000],\n",
      "        [0.3845, 0.5000, 0.2087, 0.2399]])\n",
      "\n",
      "Sine and arcsine:\n",
      "tensor([0.0000, 0.7854, 1.5708, 2.3562])\n",
      "tensor([0.0000, 0.7071, 1.0000, 0.7071])\n",
      "tensor([0.0000, 0.7854, 1.5708, 0.7854])\n",
      "\n",
      "Bitwise XOR:\n",
      "tensor([3, 2, 1])\n",
      "\n",
      "Broadcasted, element-wise equality comparison:\n",
      "tensor([[ True, False],\n",
      "        [False, False]])\n",
      "\n",
      "Reduction ops:\n",
      "tensor(4.)\n",
      "4.0\n",
      "tensor(2.5000)\n",
      "tensor(1.2910)\n",
      "tensor(24.)\n",
      "tensor([1, 2])\n",
      "\n",
      "Vectors & Matrices:\n",
      "tensor([ 0.,  0., -1.])\n",
      "tensor([[0.4497, 0.6604],\n",
      "        [0.0562, 0.5291]])\n",
      "tensor([[1.3492, 1.9811],\n",
      "        [0.1685, 1.5873]])\n",
      "torch.return_types.linalg_svd(\n",
      "U=tensor([[-0.8451, -0.5346],\n",
      "        [-0.5346,  0.8451]]),\n",
      "S=tensor([2.8068, 0.6441]),\n",
      "Vh=tensor([[-0.4383, -0.8988],\n",
      "        [-0.8988,  0.4383]]))\n"
     ]
    }
   ],
   "source": [
    "import math\n",
    "\n",
    "# common functions\n",
    "a = torch.rand(2, 4)\n",
    "print('Common functions:')\n",
    "print(torch.abs(a))\n",
    "print(torch.ceil(a))\n",
    "print(torch.floor(a))\n",
    "print(torch.clamp(a, -0.5, 0.5))\n",
    "\n",
    "# trigonometric functions and their inverses\n",
    "angles = torch.tensor([0, math.pi / 4, math.pi / 2, 3 * math.pi / 4])\n",
    "sines = torch.sin(angles)\n",
    "inverses = torch.asin(sines)\n",
    "print('\\nSine and arcsine:')\n",
    "print(angles)\n",
    "print(sines)\n",
    "print(inverses)\n",
    "\n",
    "# bitwise operations\n",
    "print('\\nBitwise XOR:')\n",
    "b = torch.tensor([1, 5, 11])\n",
    "c = torch.tensor([2, 7, 10])\n",
    "print(torch.bitwise_xor(b, c))\n",
    "\n",
    "# comparisons:\n",
    "print('\\nBroadcasted, element-wise equality comparison:')\n",
    "d = torch.tensor([[1., 2.], [3., 4.]])\n",
    "e = torch.ones(1, 2)  # many comparison ops support broadcasting!\n",
    "print(torch.eq(d, e)) # returns a tensor of type bool\n",
    "\n",
    "# reductions:\n",
    "print('\\nReduction ops:')\n",
    "print(torch.max(d))        # returns a single-element tensor\n",
    "print(torch.max(d).item()) # extracts the value from the returned tensor\n",
    "print(torch.mean(d))       # average\n",
    "print(torch.std(d))        # standard deviation\n",
    "print(torch.prod(d))       # product of all numbers\n",
    "print(torch.unique(torch.tensor([1, 2, 1, 2, 1, 2]))) # filter unique elements\n",
    "\n",
    "# vector and linear algebra operations\n",
    "v1 = torch.tensor([1., 0., 0.])         # x unit vector\n",
    "v2 = torch.tensor([0., 1., 0.])         # y unit vector\n",
    "m1 = torch.rand(2, 2)                   # random matrix\n",
    "m2 = torch.tensor([[3., 0.], [0., 3.]]) # three times identity matrix\n",
    "\n",
    "print('\\nVectors & Matrices:')\n",
    "print(torch.linalg.cross(v2, v1)) # negative of z unit vector (v1 x v2 == -v2 x v1)\n",
    "print(m1)\n",
    "m3 = torch.linalg.matmul(m1, m2)\n",
    "print(m3)                  # 3 times m1\n",
    "print(torch.linalg.svd(m3))       # singular value decomposition"
   ]
  },
  {
   "cell_type": "code",
   "execution_count": null,
   "metadata": {},
   "outputs": [],
   "source": []
  }
 ],
 "metadata": {
  "kernelspec": {
   "display_name": "transformers",
   "language": "python",
   "name": "python3"
  },
  "language_info": {
   "codemirror_mode": {
    "name": "ipython",
    "version": 3
   },
   "file_extension": ".py",
   "mimetype": "text/x-python",
   "name": "python",
   "nbconvert_exporter": "python",
   "pygments_lexer": "ipython3",
   "version": "3.9.19"
  }
 },
 "nbformat": 4,
 "nbformat_minor": 2
}

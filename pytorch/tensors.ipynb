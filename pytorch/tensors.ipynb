{
 "cells": [
  {
   "cell_type": "code",
   "execution_count": 1,
   "metadata": {},
   "outputs": [],
   "source": [
    "import torch\n",
    "import numpy as np"
   ]
  },
  {
   "cell_type": "code",
   "execution_count": 2,
   "metadata": {},
   "outputs": [
    {
     "name": "stdout",
     "output_type": "stream",
     "text": [
      "tensor([[1, 1],\n",
      "        [1, 1]])\n",
      "tensor([[0.6368, 0.5993],\n",
      "        [0.6041, 0.0479]])\n"
     ]
    }
   ],
   "source": [
    "# torch from list\n",
    "data = [[1, 2], [3, 4]]\n",
    "x_data = torch.tensor(data)\n",
    "# print((x_data))\n",
    "\n",
    "np_array = np.array(data)\n",
    "np_tensor = torch.tensor(np_array)\n",
    "# print(np_tensor)\n",
    "\n",
    "# ones_like and rand_like\n",
    "x_ones = torch.ones_like(x_data)\n",
    "print(x_ones)\n",
    "x_rand = torch.rand_like(x_data, dtype=torch.float)#not implemented for long\n",
    "print(x_rand)"
   ]
  },
  {
   "cell_type": "code",
   "execution_count": 3,
   "metadata": {},
   "outputs": [
    {
     "name": "stdout",
     "output_type": "stream",
     "text": [
      "tensor([[0.4264, 0.8980, 0.8199],\n",
      "        [0.8432, 0.9355, 0.5029]])\n",
      "tensor([[1., 1., 1.],\n",
      "        [1., 1., 1.]])\n",
      "tensor([[0., 0.],\n",
      "        [0., 0.],\n",
      "        [0., 0.]])\n"
     ]
    }
   ],
   "source": [
    "print(torch.rand((2,3,)))\n",
    "print(torch.ones((2,3,)))\n",
    "print(torch.zeros((3,2,)))\n",
    "\n",
    "# comma signifies that we are unsure about shape, and might change later, or we might append additional dim"
   ]
  },
  {
   "cell_type": "code",
   "execution_count": 4,
   "metadata": {},
   "outputs": [
    {
     "name": "stdout",
     "output_type": "stream",
     "text": [
      "tensor([[0.9407, 0.4856, 0.7086],\n",
      "        [0.3963, 0.9009, 0.1210]])\n",
      "shape  torch.Size([2, 3])\n",
      "Datatype torch.float32\n",
      "Stored on cpu\n"
     ]
    }
   ],
   "source": [
    "dummy1 = torch.rand((2,3,), dtype=torch.float)\n",
    "print(dummy1)\n",
    "print(f\"shape  {dummy1.shape}\")\n",
    "print(f\"Datatype {dummy1.dtype}\")\n",
    "print(f\"Stored on {dummy1.device}\")"
   ]
  },
  {
   "cell_type": "code",
   "execution_count": 5,
   "metadata": {},
   "outputs": [
    {
     "name": "stdout",
     "output_type": "stream",
     "text": [
      "torch.bool\n"
     ]
    }
   ],
   "source": [
    "d2 = torch.tensor([True, False, True], dtype=torch.bool)\n",
    "print(d2.dtype)"
   ]
  },
  {
   "cell_type": "code",
   "execution_count": 6,
   "metadata": {},
   "outputs": [
    {
     "name": "stdout",
     "output_type": "stream",
     "text": [
      "tensor([[0.9257, 0.5599, 0.7753, 0.0085],\n",
      "        [0.3920, 0.1725, 0.9617, 0.9117],\n",
      "        [0.6290, 0.0846, 0.0807, 0.4739]])\n"
     ]
    }
   ],
   "source": [
    "tensor = torch.rand((3, 4))\n",
    "print(tensor)"
   ]
  },
  {
   "cell_type": "code",
   "execution_count": 7,
   "metadata": {},
   "outputs": [
    {
     "name": "stdout",
     "output_type": "stream",
     "text": [
      "tensor([0.9257, 0.3920, 0.6290])\n",
      "tensor([0.0085, 0.9117, 0.4739])\n",
      "tensor([0., 0., 0., 0.])\n"
     ]
    }
   ],
   "source": [
    "print(tensor[:,0]) # first column\n",
    "print(tensor[:,-1]) # last column\n",
    "tensor[0,:] = 0 # first row\n",
    "print(tensor[0,:]) # first row"
   ]
  },
  {
   "cell_type": "code",
   "execution_count": 8,
   "metadata": {},
   "outputs": [
    {
     "name": "stdout",
     "output_type": "stream",
     "text": [
      "tensor([[0.0000, 0.0000, 0.0000, 0.0000],\n",
      "        [0.3920, 0.1725, 0.9617, 0.9117],\n",
      "        [0.6290, 0.0846, 0.0807, 0.4739],\n",
      "        [0.0000, 0.0000, 0.0000, 0.0000],\n",
      "        [0.3920, 0.1725, 0.9617, 0.9117],\n",
      "        [0.6290, 0.0846, 0.0807, 0.4739]])\n"
     ]
    }
   ],
   "source": [
    "t1 = torch.cat((tensor, tensor), dim=0) # concatenate along row\n",
    "print(t1)"
   ]
  },
  {
   "cell_type": "code",
   "execution_count": 14,
   "metadata": {},
   "outputs": [
    {
     "name": "stdout",
     "output_type": "stream",
     "text": [
      "tensor([[100.0000, 112.1891, 106.3406],\n",
      "        [112.1891, 126.3178, 119.3005],\n",
      "        [106.3406, 119.3005, 113.3150]])\n",
      "tensor([[100.0000, 112.1891, 106.3406],\n",
      "        [112.1891, 126.3178, 119.3005],\n",
      "        [106.3406, 119.3005, 113.3150]])\n"
     ]
    }
   ],
   "source": [
    "print(tensor.matmul(tensor.T)) # matrix multiplication\n",
    "print(tensor@tensor.T)"
   ]
  },
  {
   "cell_type": "code",
   "execution_count": 10,
   "metadata": {},
   "outputs": [
    {
     "data": {
      "text/plain": [
       "tensor([[0.0000, 0.0000, 0.0000, 0.0000],\n",
       "        [0.1536, 0.0297, 0.9248, 0.8313],\n",
       "        [0.3956, 0.0072, 0.0065, 0.2246]])"
      ]
     },
     "execution_count": 10,
     "metadata": {},
     "output_type": "execute_result"
    }
   ],
   "source": [
    "tensor.mul(tensor)\n",
    "tensor*tensor"
   ]
  },
  {
   "cell_type": "code",
   "execution_count": 11,
   "metadata": {},
   "outputs": [
    {
     "data": {
      "text/plain": [
       "float"
      ]
     },
     "execution_count": 11,
     "metadata": {},
     "output_type": "execute_result"
    }
   ],
   "source": [
    "t2 = (tensor.sum()).item()\n",
    "type(t2)"
   ]
  },
  {
   "cell_type": "code",
   "execution_count": 12,
   "metadata": {},
   "outputs": [
    {
     "data": {
      "text/plain": [
       "tensor([[5.0000, 5.0000, 5.0000, 5.0000],\n",
       "        [5.3920, 5.1725, 5.9617, 5.9117],\n",
       "        [5.6290, 5.0846, 5.0807, 5.4739]])"
      ]
     },
     "execution_count": 12,
     "metadata": {},
     "output_type": "execute_result"
    }
   ],
   "source": [
    "tensor.add_(5) # in place addition"
   ]
  },
  {
   "cell_type": "code",
   "execution_count": 13,
   "metadata": {},
   "outputs": [
    {
     "name": "stdout",
     "output_type": "stream",
     "text": [
      "[[1. 1. 1.]\n",
      " [1. 1. 1.]]\n",
      "tensor([[1., 1., 1.],\n",
      "        [1., 1., 1.]], dtype=torch.float64)\n"
     ]
    }
   ],
   "source": [
    "k = np.ones((2,3))\n",
    "print(k)\n",
    "k = torch.from_numpy(k)\n",
    "print(k)"
   ]
  },
  {
   "cell_type": "code",
   "execution_count": null,
   "metadata": {},
   "outputs": [],
   "source": []
  },
  {
   "cell_type": "code",
   "execution_count": null,
   "metadata": {},
   "outputs": [],
   "source": []
  }
 ],
 "metadata": {
  "kernelspec": {
   "display_name": "transformers",
   "language": "python",
   "name": "python3"
  },
  "language_info": {
   "codemirror_mode": {
    "name": "ipython",
    "version": 3
   },
   "file_extension": ".py",
   "mimetype": "text/x-python",
   "name": "python",
   "nbconvert_exporter": "python",
   "pygments_lexer": "ipython3",
   "version": "3.9.19"
  }
 },
 "nbformat": 4,
 "nbformat_minor": 2
}

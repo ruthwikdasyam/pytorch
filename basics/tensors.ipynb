{
 "cells": [
  {
   "cell_type": "code",
   "execution_count": 5,
   "metadata": {},
   "outputs": [],
   "source": [
    "import torch\n",
    "import numpy as np"
   ]
  },
  {
   "cell_type": "code",
   "execution_count": 6,
   "metadata": {},
   "outputs": [
    {
     "name": "stdout",
     "output_type": "stream",
     "text": [
      "tensor([[1, 1],\n",
      "        [1, 1]])\n",
      "tensor([[0.4696, 0.5304],\n",
      "        [0.0981, 0.3168]])\n"
     ]
    }
   ],
   "source": [
    "# torch from list\n",
    "data = [[1, 2], [3, 4]]\n",
    "x_data = torch.tensor(data)\n",
    "# print((x_data))\n",
    "\n",
    "np_array = np.array(data)\n",
    "np_tensor = torch.tensor(np_array)\n",
    "# print(np_tensor)\n",
    "\n",
    "# ones_like and rand_like\n",
    "x_ones = torch.ones_like(x_data)\n",
    "print(x_ones)\n",
    "x_rand = torch.rand_like(x_data, dtype=torch.float)#not implemented for long\n",
    "print(x_rand)"
   ]
  },
  {
   "cell_type": "code",
   "execution_count": 22,
   "metadata": {},
   "outputs": [
    {
     "name": "stdout",
     "output_type": "stream",
     "text": [
      "tensor([[0.9306, 0.8114, 0.8024],\n",
      "        [0.9823, 0.9788, 0.7027]])\n",
      "tensor([[1., 1., 1.],\n",
      "        [1., 1., 1.]])\n",
      "tensor([[0., 0.],\n",
      "        [0., 0.],\n",
      "        [0., 0.]])\n"
     ]
    }
   ],
   "source": [
    "print(torch.rand((2,3,)))\n",
    "print(torch.ones((2,3,)))\n",
    "print(torch.zeros((3,2,)))\n",
    "\n",
    "# comma signifies that we are unsure about shape, and might change later, or we might append additional dim"
   ]
  },
  {
   "cell_type": "code",
   "execution_count": 35,
   "metadata": {},
   "outputs": [
    {
     "name": "stdout",
     "output_type": "stream",
     "text": [
      "tensor([[0.6760, 0.6845, 0.5474],\n",
      "        [0.7995, 0.4479, 0.4021]])\n",
      "shape  torch.Size([2, 3])\n",
      "Datatype torch.float32\n",
      "Stored on cpu\n"
     ]
    }
   ],
   "source": [
    "dummy1 = torch.rand((2,3,), dtype=torch.float)\n",
    "print(dummy1)\n",
    "print(f\"shape  {dummy1.shape}\")\n",
    "print(f\"Datatype {dummy1.dtype}\")\n",
    "print(f\"Stored on {dummy1.device}\")"
   ]
  },
  {
   "cell_type": "code",
   "execution_count": 39,
   "metadata": {},
   "outputs": [
    {
     "name": "stdout",
     "output_type": "stream",
     "text": [
      "torch.bool\n"
     ]
    }
   ],
   "source": [
    "d2 = torch.tensor([True, False, True], dtype=torch.bool)\n",
    "print(d2.dtype)"
   ]
  },
  {
   "cell_type": "code",
   "execution_count": null,
   "metadata": {},
   "outputs": [],
   "source": []
  }
 ],
 "metadata": {
  "kernelspec": {
   "display_name": "transformers",
   "language": "python",
   "name": "python3"
  },
  "language_info": {
   "codemirror_mode": {
    "name": "ipython",
    "version": 3
   },
   "file_extension": ".py",
   "mimetype": "text/x-python",
   "name": "python",
   "nbconvert_exporter": "python",
   "pygments_lexer": "ipython3",
   "version": "3.9.19"
  }
 },
 "nbformat": 4,
 "nbformat_minor": 2
}
